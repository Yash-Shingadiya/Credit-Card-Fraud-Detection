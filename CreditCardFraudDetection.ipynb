{
 "cells": [
  {
   "cell_type": "code",
   "execution_count": 1,
   "metadata": {},
   "outputs": [],
   "source": [
    "%matplotlib inline\n",
    "import scipy.stats as stats\n",
    "import numpy as np\n",
    "import seaborn as sns\n",
    "import pandas as pd\n",
    "import matplotlib.pyplot as plt\n",
    "plt.style.use('ggplot')"
   ]
  },
  {
   "cell_type": "code",
   "execution_count": 2,
   "metadata": {},
   "outputs": [],
   "source": [
    "#Reading whole file using pandas\n",
    "df = pd.read_csv('creditcard.csv')"
   ]
  },
  {
   "cell_type": "code",
   "execution_count": 3,
   "metadata": {},
   "outputs": [
    {
     "name": "stdout",
     "output_type": "stream",
     "text": [
      "284807 rows * 31 columns.\n"
     ]
    }
   ],
   "source": [
    "#Checking no. of rows and columns in data\n",
    "print('{} rows * {} columns.'.format(df.shape[0], df.shape[1]))\n"
   ]
  },
  {
   "cell_type": "code",
   "execution_count": 4,
   "metadata": {},
   "outputs": [
    {
     "data": {
      "text/html": [
       "<div>\n",
       "<style scoped>\n",
       "    .dataframe tbody tr th:only-of-type {\n",
       "        vertical-align: middle;\n",
       "    }\n",
       "\n",
       "    .dataframe tbody tr th {\n",
       "        vertical-align: top;\n",
       "    }\n",
       "\n",
       "    .dataframe thead th {\n",
       "        text-align: right;\n",
       "    }\n",
       "</style>\n",
       "<table border=\"1\" class=\"dataframe\">\n",
       "  <thead>\n",
       "    <tr style=\"text-align: right;\">\n",
       "      <th></th>\n",
       "      <th>Time</th>\n",
       "      <th>V1</th>\n",
       "      <th>V2</th>\n",
       "      <th>V3</th>\n",
       "      <th>V4</th>\n",
       "      <th>V5</th>\n",
       "      <th>V6</th>\n",
       "      <th>V7</th>\n",
       "      <th>V8</th>\n",
       "      <th>V9</th>\n",
       "      <th>...</th>\n",
       "      <th>V21</th>\n",
       "      <th>V22</th>\n",
       "      <th>V23</th>\n",
       "      <th>V24</th>\n",
       "      <th>V25</th>\n",
       "      <th>V26</th>\n",
       "      <th>V27</th>\n",
       "      <th>V28</th>\n",
       "      <th>Amount</th>\n",
       "      <th>Class</th>\n",
       "    </tr>\n",
       "  </thead>\n",
       "  <tbody>\n",
       "    <tr>\n",
       "      <td>257470</td>\n",
       "      <td>158182.0</td>\n",
       "      <td>-1.298330</td>\n",
       "      <td>1.661547</td>\n",
       "      <td>-1.255630</td>\n",
       "      <td>-0.445255</td>\n",
       "      <td>-0.081520</td>\n",
       "      <td>-0.700867</td>\n",
       "      <td>-0.290599</td>\n",
       "      <td>1.124484</td>\n",
       "      <td>-0.397014</td>\n",
       "      <td>...</td>\n",
       "      <td>0.208822</td>\n",
       "      <td>0.192375</td>\n",
       "      <td>0.183509</td>\n",
       "      <td>0.541016</td>\n",
       "      <td>-1.072877</td>\n",
       "      <td>0.185242</td>\n",
       "      <td>-0.429419</td>\n",
       "      <td>0.059019</td>\n",
       "      <td>10.18</td>\n",
       "      <td>0</td>\n",
       "    </tr>\n",
       "    <tr>\n",
       "      <td>80212</td>\n",
       "      <td>58382.0</td>\n",
       "      <td>1.074234</td>\n",
       "      <td>-0.104266</td>\n",
       "      <td>0.262347</td>\n",
       "      <td>0.654703</td>\n",
       "      <td>-0.394175</td>\n",
       "      <td>-0.561744</td>\n",
       "      <td>0.086602</td>\n",
       "      <td>-0.057262</td>\n",
       "      <td>0.153010</td>\n",
       "      <td>...</td>\n",
       "      <td>-0.140183</td>\n",
       "      <td>-0.577717</td>\n",
       "      <td>0.054039</td>\n",
       "      <td>0.058037</td>\n",
       "      <td>0.185071</td>\n",
       "      <td>0.198124</td>\n",
       "      <td>-0.039352</td>\n",
       "      <td>0.023094</td>\n",
       "      <td>79.00</td>\n",
       "      <td>0</td>\n",
       "    </tr>\n",
       "    <tr>\n",
       "      <td>221590</td>\n",
       "      <td>142625.0</td>\n",
       "      <td>0.145507</td>\n",
       "      <td>1.172152</td>\n",
       "      <td>-1.060386</td>\n",
       "      <td>0.016144</td>\n",
       "      <td>0.304042</td>\n",
       "      <td>-1.391675</td>\n",
       "      <td>0.785758</td>\n",
       "      <td>0.025089</td>\n",
       "      <td>-0.354534</td>\n",
       "      <td>...</td>\n",
       "      <td>0.355736</td>\n",
       "      <td>1.028074</td>\n",
       "      <td>-0.028742</td>\n",
       "      <td>-0.003831</td>\n",
       "      <td>-0.217014</td>\n",
       "      <td>-0.157447</td>\n",
       "      <td>-0.071048</td>\n",
       "      <td>-0.039409</td>\n",
       "      <td>42.81</td>\n",
       "      <td>0</td>\n",
       "    </tr>\n",
       "    <tr>\n",
       "      <td>98700</td>\n",
       "      <td>66773.0</td>\n",
       "      <td>-0.459376</td>\n",
       "      <td>0.923432</td>\n",
       "      <td>1.291135</td>\n",
       "      <td>0.582846</td>\n",
       "      <td>0.444870</td>\n",
       "      <td>0.518190</td>\n",
       "      <td>0.700629</td>\n",
       "      <td>0.156795</td>\n",
       "      <td>-0.510912</td>\n",
       "      <td>...</td>\n",
       "      <td>0.018783</td>\n",
       "      <td>0.200895</td>\n",
       "      <td>-0.250094</td>\n",
       "      <td>-0.281879</td>\n",
       "      <td>0.245780</td>\n",
       "      <td>-0.363818</td>\n",
       "      <td>-0.061128</td>\n",
       "      <td>0.000107</td>\n",
       "      <td>25.68</td>\n",
       "      <td>0</td>\n",
       "    </tr>\n",
       "    <tr>\n",
       "      <td>275212</td>\n",
       "      <td>166424.0</td>\n",
       "      <td>-2.343508</td>\n",
       "      <td>-1.065431</td>\n",
       "      <td>-1.894163</td>\n",
       "      <td>1.643791</td>\n",
       "      <td>4.631472</td>\n",
       "      <td>3.280324</td>\n",
       "      <td>-0.463969</td>\n",
       "      <td>0.318066</td>\n",
       "      <td>-0.999499</td>\n",
       "      <td>...</td>\n",
       "      <td>1.049361</td>\n",
       "      <td>1.283758</td>\n",
       "      <td>1.157685</td>\n",
       "      <td>0.704387</td>\n",
       "      <td>-1.209384</td>\n",
       "      <td>-0.249419</td>\n",
       "      <td>0.336384</td>\n",
       "      <td>-0.185399</td>\n",
       "      <td>10.59</td>\n",
       "      <td>0</td>\n",
       "    </tr>\n",
       "    <tr>\n",
       "      <td>129856</td>\n",
       "      <td>79227.0</td>\n",
       "      <td>1.202724</td>\n",
       "      <td>-0.491866</td>\n",
       "      <td>0.855305</td>\n",
       "      <td>-0.762184</td>\n",
       "      <td>-1.140289</td>\n",
       "      <td>-0.386163</td>\n",
       "      <td>-0.739263</td>\n",
       "      <td>0.179790</td>\n",
       "      <td>2.016052</td>\n",
       "      <td>...</td>\n",
       "      <td>0.000228</td>\n",
       "      <td>0.221416</td>\n",
       "      <td>0.009593</td>\n",
       "      <td>0.062201</td>\n",
       "      <td>0.383015</td>\n",
       "      <td>-0.652496</td>\n",
       "      <td>0.101566</td>\n",
       "      <td>0.029071</td>\n",
       "      <td>1.00</td>\n",
       "      <td>0</td>\n",
       "    </tr>\n",
       "    <tr>\n",
       "      <td>210858</td>\n",
       "      <td>138150.0</td>\n",
       "      <td>2.264052</td>\n",
       "      <td>-0.562935</td>\n",
       "      <td>-2.452766</td>\n",
       "      <td>-1.254418</td>\n",
       "      <td>0.523376</td>\n",
       "      <td>-0.730363</td>\n",
       "      <td>0.134382</td>\n",
       "      <td>-0.365951</td>\n",
       "      <td>-1.220509</td>\n",
       "      <td>...</td>\n",
       "      <td>0.359931</td>\n",
       "      <td>0.961791</td>\n",
       "      <td>-0.135089</td>\n",
       "      <td>0.158027</td>\n",
       "      <td>0.522049</td>\n",
       "      <td>0.063955</td>\n",
       "      <td>-0.090159</td>\n",
       "      <td>-0.088266</td>\n",
       "      <td>24.90</td>\n",
       "      <td>0</td>\n",
       "    </tr>\n",
       "    <tr>\n",
       "      <td>261263</td>\n",
       "      <td>159936.0</td>\n",
       "      <td>2.040789</td>\n",
       "      <td>-0.873974</td>\n",
       "      <td>-1.221696</td>\n",
       "      <td>-0.467927</td>\n",
       "      <td>-0.772198</td>\n",
       "      <td>-1.027272</td>\n",
       "      <td>-0.365352</td>\n",
       "      <td>-0.221671</td>\n",
       "      <td>-0.726895</td>\n",
       "      <td>...</td>\n",
       "      <td>-0.059241</td>\n",
       "      <td>0.224264</td>\n",
       "      <td>0.094457</td>\n",
       "      <td>0.087595</td>\n",
       "      <td>-0.162299</td>\n",
       "      <td>0.767748</td>\n",
       "      <td>-0.080433</td>\n",
       "      <td>-0.066531</td>\n",
       "      <td>57.47</td>\n",
       "      <td>0</td>\n",
       "    </tr>\n",
       "    <tr>\n",
       "      <td>187658</td>\n",
       "      <td>127631.0</td>\n",
       "      <td>2.158530</td>\n",
       "      <td>-0.870156</td>\n",
       "      <td>-1.401891</td>\n",
       "      <td>-1.032165</td>\n",
       "      <td>-0.535446</td>\n",
       "      <td>-0.907137</td>\n",
       "      <td>-0.475953</td>\n",
       "      <td>-0.221837</td>\n",
       "      <td>-0.641377</td>\n",
       "      <td>...</td>\n",
       "      <td>0.484285</td>\n",
       "      <td>1.310290</td>\n",
       "      <td>-0.077291</td>\n",
       "      <td>-0.288903</td>\n",
       "      <td>0.173601</td>\n",
       "      <td>0.075414</td>\n",
       "      <td>-0.047930</td>\n",
       "      <td>-0.075326</td>\n",
       "      <td>35.85</td>\n",
       "      <td>0</td>\n",
       "    </tr>\n",
       "    <tr>\n",
       "      <td>86285</td>\n",
       "      <td>61163.0</td>\n",
       "      <td>-1.626328</td>\n",
       "      <td>0.654589</td>\n",
       "      <td>1.256617</td>\n",
       "      <td>-0.768008</td>\n",
       "      <td>0.884544</td>\n",
       "      <td>-0.389694</td>\n",
       "      <td>0.742551</td>\n",
       "      <td>-0.192706</td>\n",
       "      <td>0.066336</td>\n",
       "      <td>...</td>\n",
       "      <td>-0.359364</td>\n",
       "      <td>-0.648552</td>\n",
       "      <td>0.051107</td>\n",
       "      <td>-0.528941</td>\n",
       "      <td>0.034524</td>\n",
       "      <td>-0.037845</td>\n",
       "      <td>-0.123570</td>\n",
       "      <td>0.057546</td>\n",
       "      <td>1.98</td>\n",
       "      <td>0</td>\n",
       "    </tr>\n",
       "  </tbody>\n",
       "</table>\n",
       "<p>10 rows × 31 columns</p>\n",
       "</div>"
      ],
      "text/plain": [
       "            Time        V1        V2        V3        V4        V5        V6  \\\n",
       "257470  158182.0 -1.298330  1.661547 -1.255630 -0.445255 -0.081520 -0.700867   \n",
       "80212    58382.0  1.074234 -0.104266  0.262347  0.654703 -0.394175 -0.561744   \n",
       "221590  142625.0  0.145507  1.172152 -1.060386  0.016144  0.304042 -1.391675   \n",
       "98700    66773.0 -0.459376  0.923432  1.291135  0.582846  0.444870  0.518190   \n",
       "275212  166424.0 -2.343508 -1.065431 -1.894163  1.643791  4.631472  3.280324   \n",
       "129856   79227.0  1.202724 -0.491866  0.855305 -0.762184 -1.140289 -0.386163   \n",
       "210858  138150.0  2.264052 -0.562935 -2.452766 -1.254418  0.523376 -0.730363   \n",
       "261263  159936.0  2.040789 -0.873974 -1.221696 -0.467927 -0.772198 -1.027272   \n",
       "187658  127631.0  2.158530 -0.870156 -1.401891 -1.032165 -0.535446 -0.907137   \n",
       "86285    61163.0 -1.626328  0.654589  1.256617 -0.768008  0.884544 -0.389694   \n",
       "\n",
       "              V7        V8        V9  ...       V21       V22       V23  \\\n",
       "257470 -0.290599  1.124484 -0.397014  ...  0.208822  0.192375  0.183509   \n",
       "80212   0.086602 -0.057262  0.153010  ... -0.140183 -0.577717  0.054039   \n",
       "221590  0.785758  0.025089 -0.354534  ...  0.355736  1.028074 -0.028742   \n",
       "98700   0.700629  0.156795 -0.510912  ...  0.018783  0.200895 -0.250094   \n",
       "275212 -0.463969  0.318066 -0.999499  ...  1.049361  1.283758  1.157685   \n",
       "129856 -0.739263  0.179790  2.016052  ...  0.000228  0.221416  0.009593   \n",
       "210858  0.134382 -0.365951 -1.220509  ...  0.359931  0.961791 -0.135089   \n",
       "261263 -0.365352 -0.221671 -0.726895  ... -0.059241  0.224264  0.094457   \n",
       "187658 -0.475953 -0.221837 -0.641377  ...  0.484285  1.310290 -0.077291   \n",
       "86285   0.742551 -0.192706  0.066336  ... -0.359364 -0.648552  0.051107   \n",
       "\n",
       "             V24       V25       V26       V27       V28  Amount  Class  \n",
       "257470  0.541016 -1.072877  0.185242 -0.429419  0.059019   10.18      0  \n",
       "80212   0.058037  0.185071  0.198124 -0.039352  0.023094   79.00      0  \n",
       "221590 -0.003831 -0.217014 -0.157447 -0.071048 -0.039409   42.81      0  \n",
       "98700  -0.281879  0.245780 -0.363818 -0.061128  0.000107   25.68      0  \n",
       "275212  0.704387 -1.209384 -0.249419  0.336384 -0.185399   10.59      0  \n",
       "129856  0.062201  0.383015 -0.652496  0.101566  0.029071    1.00      0  \n",
       "210858  0.158027  0.522049  0.063955 -0.090159 -0.088266   24.90      0  \n",
       "261263  0.087595 -0.162299  0.767748 -0.080433 -0.066531   57.47      0  \n",
       "187658 -0.288903  0.173601  0.075414 -0.047930 -0.075326   35.85      0  \n",
       "86285  -0.528941  0.034524 -0.037845 -0.123570  0.057546    1.98      0  \n",
       "\n",
       "[10 rows x 31 columns]"
      ]
     },
     "execution_count": 4,
     "metadata": {},
     "output_type": "execute_result"
    }
   ],
   "source": [
    "df.sample(10)"
   ]
  },
  {
   "cell_type": "code",
   "execution_count": 5,
   "metadata": {},
   "outputs": [
    {
     "data": {
      "text/plain": [
       "<matplotlib.axes._subplots.AxesSubplot at 0x7f196277ec90>"
      ]
     },
     "execution_count": 5,
     "metadata": {},
     "output_type": "execute_result"
    },
    {
     "data": {
      "image/png": "[encoded data removed]",
      "text/plain": [
       "<Figure size 720x720 with 1 Axes>"
      ]
     },
     "metadata": {
      "needs_background": "light"
     },
     "output_type": "display_data"
    }
   ],
   "source": [
    "#Observing the nature of Amount feature using Seaborn\n",
    "plt.figure(figsize=(10,10))\n",
    "plt.title('Distribution of Amount')\n",
    "sns.distplot(df.Amount)"
   ]
  },
  {
   "cell_type": "code",
   "execution_count": 6,
   "metadata": {},
   "outputs": [
    {
     "data": {
      "text/plain": [
       "<matplotlib.axes._subplots.AxesSubplot at 0x7f1962606910>"
      ]
     },
     "execution_count": 6,
     "metadata": {},
     "output_type": "execute_result"
    },
    {
     "data": {
      "image/png": "[encoded data removed]",
      "text/plain": [
       "<Figure size 720x576 with 1 Axes>"
      ]
     },
     "metadata": {
      "needs_background": "light"
     },
     "output_type": "display_data"
    }
   ],
   "source": [
    "#Observing the nature of Time feature using Seaborn\n",
    "plt.figure(figsize=(10,8))\n",
    "plt.title('Distribution of Time Feature')\n",
    "sns.distplot(df.Time)"
   ]
  },
  {
   "cell_type": "code",
   "execution_count": 7,
   "metadata": {},
   "outputs": [
    {
     "name": "stdout",
     "output_type": "stream",
     "text": [
      "There are 284807 total transactions out of which 284315 are non-fraudulent transactions (99.827%) and 492 are fraudulent transactions (0.173%).\n"
     ]
    }
   ],
   "source": [
    "#Note that as we are interested in detecting no. of fraudulent transactions so considering fraudulent transactions \n",
    "#as positive class(class=1) and non fraudulent transactions as negative class(class=0)\n",
    "\n",
    "#Counting total no. of transactions\n",
    "total_counts = df.Class.value_counts()\n",
    "#Counting no. of fraudulent transactions\n",
    "fraudulent = total_counts[1]\n",
    "#Counting no. of non-fraudulent transactions\n",
    "non_fraudulent = total_counts[0]\n",
    "total_transactions = (non_fraudulent+fraudulent)\n",
    "#Now calculating probabilities of fraudulent and non-fraudulent transactions\n",
    "prob_of_fraudulent = (fraudulent/total_transactions)*100\n",
    "prob_of_non_fraudulent = (non_fraudulent/total_transactions)*100\n",
    "print('There are {} total transactions out of which {} are non-fraudulent transactions ({:.3f}%) and {} are fraudulent transactions ({:.3f}%).'.format(total_transactions,non_fraudulent, prob_of_non_fraudulent, fraudulent, prob_of_fraudulent))"
   ]
  },
  {
   "cell_type": "code",
   "execution_count": 8,
   "metadata": {},
   "outputs": [
    {
     "data": {
      "text/plain": [
       "Text(0, 0.5, 'Counts')"
      ]
     },
     "execution_count": 8,
     "metadata": {},
     "output_type": "execute_result"
    },
    {
     "data": {
      "image/png": "[encoded data removed]",
      "text/plain": [
       "<Figure size 720x720 with 1 Axes>"
      ]
     },
     "metadata": {
      "needs_background": "light"
     },
     "output_type": "display_data"
    }
   ],
   "source": [
    "#Now plotting this dataset on bar plot using Seaborn\n",
    "plt.figure(figsize=(10,10))\n",
    "sns.barplot(x = total_counts.index, y = total_counts)\n",
    "plt.title('Fraudulent Transactions vs. Non-Fraudulent Transactions')\n",
    "plt.xlabel('Class (Non-Fraudulent =0, 1:Fraudulent)')\n",
    "plt.ylabel('Counts')"
   ]
  },
  {
   "cell_type": "code",
   "execution_count": 9,
   "metadata": {},
   "outputs": [],
   "source": [
    "#Scaling time and amount features for getting better results for Logistic Regression\n",
    "from sklearn.preprocessing import StandardScaler\n",
    "standard_scaler = StandardScaler()"
   ]
  },
  {
   "cell_type": "code",
   "execution_count": 10,
   "metadata": {},
   "outputs": [],
   "source": [
    "#scaling Amount feature\n",
    "\n",
    "amount_after_scaling = standard_scaler.fit_transform(df[['Amount']])\n",
    "flat_list2 = [item for sublist in amount_after_scaling.tolist() for item in sublist]\n",
    "amount_after_scaling = pd.Series(flat_list2)"
   ]
  },
  {
   "cell_type": "code",
   "execution_count": 11,
   "metadata": {},
   "outputs": [],
   "source": [
    "#scaling Time feature\n",
    "\n",
    "time_after_scaling = standard_scaler.fit_transform(df[['Time']])\n",
    "flat_list1 = [item for sublist in time_after_scaling.tolist() for item in sublist]    # making a flat list out of a list of lists\n",
    "time_after_scaling = pd.Series(flat_list1)"
   ]
  },
  {
   "cell_type": "code",
   "execution_count": 12,
   "metadata": {},
   "outputs": [
    {
     "data": {
      "text/html": [
       "<div>\n",
       "<style scoped>\n",
       "    .dataframe tbody tr th:only-of-type {\n",
       "        vertical-align: middle;\n",
       "    }\n",
       "\n",
       "    .dataframe tbody tr th {\n",
       "        vertical-align: top;\n",
       "    }\n",
       "\n",
       "    .dataframe thead th {\n",
       "        text-align: right;\n",
       "    }\n",
       "</style>\n",
       "<table border=\"1\" class=\"dataframe\">\n",
       "  <thead>\n",
       "    <tr style=\"text-align: right;\">\n",
       "      <th></th>\n",
       "      <th>V1</th>\n",
       "      <th>V2</th>\n",
       "      <th>V3</th>\n",
       "      <th>V4</th>\n",
       "      <th>V5</th>\n",
       "      <th>V6</th>\n",
       "      <th>V7</th>\n",
       "      <th>V8</th>\n",
       "      <th>V9</th>\n",
       "      <th>V10</th>\n",
       "      <th>...</th>\n",
       "      <th>V22</th>\n",
       "      <th>V23</th>\n",
       "      <th>V24</th>\n",
       "      <th>V25</th>\n",
       "      <th>V26</th>\n",
       "      <th>V27</th>\n",
       "      <th>V28</th>\n",
       "      <th>Class</th>\n",
       "      <th>amount_after_scaling</th>\n",
       "      <th>time_after_scaling</th>\n",
       "    </tr>\n",
       "  </thead>\n",
       "  <tbody>\n",
       "    <tr>\n",
       "      <td>215614</td>\n",
       "      <td>1.890439</td>\n",
       "      <td>-0.280671</td>\n",
       "      <td>-0.441258</td>\n",
       "      <td>1.394108</td>\n",
       "      <td>-0.229893</td>\n",
       "      <td>0.250374</td>\n",
       "      <td>-0.387064</td>\n",
       "      <td>0.194318</td>\n",
       "      <td>1.038257</td>\n",
       "      <td>0.165746</td>\n",
       "      <td>...</td>\n",
       "      <td>-1.202136</td>\n",
       "      <td>0.381915</td>\n",
       "      <td>-0.567515</td>\n",
       "      <td>-0.335803</td>\n",
       "      <td>-1.093829</td>\n",
       "      <td>0.047619</td>\n",
       "      <td>-0.044532</td>\n",
       "      <td>0</td>\n",
       "      <td>-0.282103</td>\n",
       "      <td>0.954622</td>\n",
       "    </tr>\n",
       "    <tr>\n",
       "      <td>89931</td>\n",
       "      <td>1.351245</td>\n",
       "      <td>-0.693846</td>\n",
       "      <td>-1.420984</td>\n",
       "      <td>-1.640007</td>\n",
       "      <td>1.500726</td>\n",
       "      <td>3.132939</td>\n",
       "      <td>-1.111295</td>\n",
       "      <td>0.804093</td>\n",
       "      <td>-0.872383</td>\n",
       "      <td>0.206825</td>\n",
       "      <td>...</td>\n",
       "      <td>-0.265936</td>\n",
       "      <td>-0.080244</td>\n",
       "      <td>0.920618</td>\n",
       "      <td>0.507194</td>\n",
       "      <td>-0.272569</td>\n",
       "      <td>0.022485</td>\n",
       "      <td>0.047595</td>\n",
       "      <td>0</td>\n",
       "      <td>-0.113744</td>\n",
       "      <td>-0.674314</td>\n",
       "    </tr>\n",
       "    <tr>\n",
       "      <td>209015</td>\n",
       "      <td>-1.088847</td>\n",
       "      <td>1.421704</td>\n",
       "      <td>-0.769461</td>\n",
       "      <td>-1.012973</td>\n",
       "      <td>0.835712</td>\n",
       "      <td>-0.280181</td>\n",
       "      <td>0.763119</td>\n",
       "      <td>0.126991</td>\n",
       "      <td>0.567009</td>\n",
       "      <td>0.595477</td>\n",
       "      <td>...</td>\n",
       "      <td>-0.747095</td>\n",
       "      <td>0.159428</td>\n",
       "      <td>-0.034437</td>\n",
       "      <td>-0.199547</td>\n",
       "      <td>0.137382</td>\n",
       "      <td>0.180499</td>\n",
       "      <td>-0.014353</td>\n",
       "      <td>0</td>\n",
       "      <td>-0.309051</td>\n",
       "      <td>0.896165</td>\n",
       "    </tr>\n",
       "    <tr>\n",
       "      <td>147546</td>\n",
       "      <td>0.168126</td>\n",
       "      <td>0.489497</td>\n",
       "      <td>0.250808</td>\n",
       "      <td>-0.310597</td>\n",
       "      <td>0.411499</td>\n",
       "      <td>-0.793711</td>\n",
       "      <td>0.665864</td>\n",
       "      <td>-0.016319</td>\n",
       "      <td>-0.231580</td>\n",
       "      <td>-0.217525</td>\n",
       "      <td>...</td>\n",
       "      <td>-0.366452</td>\n",
       "      <td>0.187562</td>\n",
       "      <td>-0.015618</td>\n",
       "      <td>-1.037484</td>\n",
       "      <td>0.127106</td>\n",
       "      <td>0.064851</td>\n",
       "      <td>0.090003</td>\n",
       "      <td>0</td>\n",
       "      <td>-0.338876</td>\n",
       "      <td>-0.129356</td>\n",
       "    </tr>\n",
       "    <tr>\n",
       "      <td>121611</td>\n",
       "      <td>1.316427</td>\n",
       "      <td>0.515686</td>\n",
       "      <td>-0.329453</td>\n",
       "      <td>0.977246</td>\n",
       "      <td>0.330852</td>\n",
       "      <td>-0.878406</td>\n",
       "      <td>0.564204</td>\n",
       "      <td>-0.341612</td>\n",
       "      <td>-0.296528</td>\n",
       "      <td>0.036019</td>\n",
       "      <td>...</td>\n",
       "      <td>-0.002361</td>\n",
       "      <td>-0.215354</td>\n",
       "      <td>-0.122100</td>\n",
       "      <td>0.936804</td>\n",
       "      <td>-0.264256</td>\n",
       "      <td>-0.006142</td>\n",
       "      <td>0.006164</td>\n",
       "      <td>0</td>\n",
       "      <td>-0.349671</td>\n",
       "      <td>-0.390811</td>\n",
       "    </tr>\n",
       "    <tr>\n",
       "      <td>77696</td>\n",
       "      <td>-0.665395</td>\n",
       "      <td>0.444290</td>\n",
       "      <td>-0.254962</td>\n",
       "      <td>-1.295019</td>\n",
       "      <td>2.412565</td>\n",
       "      <td>3.261043</td>\n",
       "      <td>-0.185310</td>\n",
       "      <td>0.722831</td>\n",
       "      <td>-0.359808</td>\n",
       "      <td>0.053825</td>\n",
       "      <td>...</td>\n",
       "      <td>-0.257205</td>\n",
       "      <td>-0.041142</td>\n",
       "      <td>1.074555</td>\n",
       "      <td>-0.435766</td>\n",
       "      <td>1.012256</td>\n",
       "      <td>-0.339899</td>\n",
       "      <td>0.178911</td>\n",
       "      <td>0</td>\n",
       "      <td>-0.343994</td>\n",
       "      <td>-0.792765</td>\n",
       "    </tr>\n",
       "    <tr>\n",
       "      <td>155815</td>\n",
       "      <td>-1.646946</td>\n",
       "      <td>0.945433</td>\n",
       "      <td>-1.609737</td>\n",
       "      <td>0.644473</td>\n",
       "      <td>1.284904</td>\n",
       "      <td>-2.248910</td>\n",
       "      <td>-0.181004</td>\n",
       "      <td>0.414566</td>\n",
       "      <td>0.836924</td>\n",
       "      <td>-2.386265</td>\n",
       "      <td>...</td>\n",
       "      <td>0.506518</td>\n",
       "      <td>-0.580397</td>\n",
       "      <td>-0.182079</td>\n",
       "      <td>-0.582494</td>\n",
       "      <td>-0.215061</td>\n",
       "      <td>0.057503</td>\n",
       "      <td>-0.171059</td>\n",
       "      <td>0</td>\n",
       "      <td>-0.349231</td>\n",
       "      <td>0.245349</td>\n",
       "    </tr>\n",
       "    <tr>\n",
       "      <td>70739</td>\n",
       "      <td>1.012273</td>\n",
       "      <td>0.133860</td>\n",
       "      <td>1.343010</td>\n",
       "      <td>2.950721</td>\n",
       "      <td>-0.703815</td>\n",
       "      <td>0.297737</td>\n",
       "      <td>-0.373089</td>\n",
       "      <td>0.227619</td>\n",
       "      <td>0.186269</td>\n",
       "      <td>0.386042</td>\n",
       "      <td>...</td>\n",
       "      <td>0.061969</td>\n",
       "      <td>0.027287</td>\n",
       "      <td>0.622912</td>\n",
       "      <td>0.407844</td>\n",
       "      <td>0.057720</td>\n",
       "      <td>0.038107</td>\n",
       "      <td>0.028481</td>\n",
       "      <td>0</td>\n",
       "      <td>-0.262073</td>\n",
       "      <td>-0.859518</td>\n",
       "    </tr>\n",
       "    <tr>\n",
       "      <td>239340</td>\n",
       "      <td>-1.190286</td>\n",
       "      <td>0.167455</td>\n",
       "      <td>1.650622</td>\n",
       "      <td>0.756867</td>\n",
       "      <td>0.922742</td>\n",
       "      <td>1.869883</td>\n",
       "      <td>-0.817444</td>\n",
       "      <td>0.639662</td>\n",
       "      <td>0.138808</td>\n",
       "      <td>0.211236</td>\n",
       "      <td>...</td>\n",
       "      <td>1.170304</td>\n",
       "      <td>-0.652401</td>\n",
       "      <td>-1.538773</td>\n",
       "      <td>0.172889</td>\n",
       "      <td>0.473727</td>\n",
       "      <td>0.317770</td>\n",
       "      <td>0.070803</td>\n",
       "      <td>0</td>\n",
       "      <td>-0.307251</td>\n",
       "      <td>1.163327</td>\n",
       "    </tr>\n",
       "    <tr>\n",
       "      <td>53947</td>\n",
       "      <td>1.169983</td>\n",
       "      <td>-0.924048</td>\n",
       "      <td>1.269738</td>\n",
       "      <td>-0.527585</td>\n",
       "      <td>-1.434776</td>\n",
       "      <td>0.309294</td>\n",
       "      <td>-1.204932</td>\n",
       "      <td>0.240437</td>\n",
       "      <td>-0.427545</td>\n",
       "      <td>0.518385</td>\n",
       "      <td>...</td>\n",
       "      <td>0.782097</td>\n",
       "      <td>-0.018944</td>\n",
       "      <td>0.300263</td>\n",
       "      <td>0.251777</td>\n",
       "      <td>-0.205221</td>\n",
       "      <td>0.066143</td>\n",
       "      <td>0.025183</td>\n",
       "      <td>0</td>\n",
       "      <td>-0.153325</td>\n",
       "      <td>-1.023159</td>\n",
       "    </tr>\n",
       "  </tbody>\n",
       "</table>\n",
       "<p>10 rows × 31 columns</p>\n",
       "</div>"
      ],
      "text/plain": [
       "              V1        V2        V3        V4        V5        V6        V7  \\\n",
       "215614  1.890439 -0.280671 -0.441258  1.394108 -0.229893  0.250374 -0.387064   \n",
       "89931   1.351245 -0.693846 -1.420984 -1.640007  1.500726  3.132939 -1.111295   \n",
       "209015 -1.088847  1.421704 -0.769461 -1.012973  0.835712 -0.280181  0.763119   \n",
       "147546  0.168126  0.489497  0.250808 -0.310597  0.411499 -0.793711  0.665864   \n",
       "121611  1.316427  0.515686 -0.329453  0.977246  0.330852 -0.878406  0.564204   \n",
       "77696  -0.665395  0.444290 -0.254962 -1.295019  2.412565  3.261043 -0.185310   \n",
       "155815 -1.646946  0.945433 -1.609737  0.644473  1.284904 -2.248910 -0.181004   \n",
       "70739   1.012273  0.133860  1.343010  2.950721 -0.703815  0.297737 -0.373089   \n",
       "239340 -1.190286  0.167455  1.650622  0.756867  0.922742  1.869883 -0.817444   \n",
       "53947   1.169983 -0.924048  1.269738 -0.527585 -1.434776  0.309294 -1.204932   \n",
       "\n",
       "              V8        V9       V10  ...       V22       V23       V24  \\\n",
       "215614  0.194318  1.038257  0.165746  ... -1.202136  0.381915 -0.567515   \n",
       "89931   0.804093 -0.872383  0.206825  ... -0.265936 -0.080244  0.920618   \n",
       "209015  0.126991  0.567009  0.595477  ... -0.747095  0.159428 -0.034437   \n",
       "147546 -0.016319 -0.231580 -0.217525  ... -0.366452  0.187562 -0.015618   \n",
       "121611 -0.341612 -0.296528  0.036019  ... -0.002361 -0.215354 -0.122100   \n",
       "77696   0.722831 -0.359808  0.053825  ... -0.257205 -0.041142  1.074555   \n",
       "155815  0.414566  0.836924 -2.386265  ...  0.506518 -0.580397 -0.182079   \n",
       "70739   0.227619  0.186269  0.386042  ...  0.061969  0.027287  0.622912   \n",
       "239340  0.639662  0.138808  0.211236  ...  1.170304 -0.652401 -1.538773   \n",
       "53947   0.240437 -0.427545  0.518385  ...  0.782097 -0.018944  0.300263   \n",
       "\n",
       "             V25       V26       V27       V28  Class  amount_after_scaling  \\\n",
       "215614 -0.335803 -1.093829  0.047619 -0.044532      0             -0.282103   \n",
       "89931   0.507194 -0.272569  0.022485  0.047595      0             -0.113744   \n",
       "209015 -0.199547  0.137382  0.180499 -0.014353      0             -0.309051   \n",
       "147546 -1.037484  0.127106  0.064851  0.090003      0             -0.338876   \n",
       "121611  0.936804 -0.264256 -0.006142  0.006164      0             -0.349671   \n",
       "77696  -0.435766  1.012256 -0.339899  0.178911      0             -0.343994   \n",
       "155815 -0.582494 -0.215061  0.057503 -0.171059      0             -0.349231   \n",
       "70739   0.407844  0.057720  0.038107  0.028481      0             -0.262073   \n",
       "239340  0.172889  0.473727  0.317770  0.070803      0             -0.307251   \n",
       "53947   0.251777 -0.205221  0.066143  0.025183      0             -0.153325   \n",
       "\n",
       "        time_after_scaling  \n",
       "215614            0.954622  \n",
       "89931            -0.674314  \n",
       "209015            0.896165  \n",
       "147546           -0.129356  \n",
       "121611           -0.390811  \n",
       "77696            -0.792765  \n",
       "155815            0.245349  \n",
       "70739            -0.859518  \n",
       "239340            1.163327  \n",
       "53947            -1.023159  \n",
       "\n",
       "[10 rows x 31 columns]"
      ]
     },
     "execution_count": 12,
     "metadata": {},
     "output_type": "execute_result"
    }
   ],
   "source": [
    "# Once the Amount and Time features are scaled, replacing old features with new scaled features and renaming them\n",
    "df = pd.concat([df, amount_after_scaling.rename('amount_after_scaling'), time_after_scaling.rename('time_after_scaling')], axis=1)\n",
    "\n",
    "#Dropping old features from the dataframe\n",
    "df.drop(['Amount', 'Time'], axis=1, inplace=True)\n",
    "df.sample(10)"
   ]
  },
  {
   "cell_type": "code",
   "execution_count": 13,
   "metadata": {},
   "outputs": [
    {
     "data": {
      "text/plain": [
       "Text(0, 0.5, 'Counts')"
      ]
     },
     "execution_count": 13,
     "metadata": {},
     "output_type": "execute_result"
    },
    {
     "data": {
      "image/png": "[encoded data removed]",
      "text/plain": [
       "<Figure size 720x720 with 1 Axes>"
      ]
     },
     "metadata": {
      "needs_background": "light"
     },
     "output_type": "display_data"
    }
   ],
   "source": [
    "#Performing random undersampling as the dataset is highly unbalanced\n",
    "\n",
    "#Taking all the fraudulent transactions\n",
    "fraudulent = len(df[df['Class'] == 1])\n",
    "fraudulent_index = df[df.Class == 1].index\n",
    "\n",
    "#Taking random samples from non-fraudulent transactions so as to make 50/50 fraudulent-non fraudulent dataset\n",
    "non_fraudulent_index = df[df.Class == 0].index\n",
    "random_samples_from_non_fraudulent = np.random.choice(non_fraudulent_index,fraudulent, replace=False)\n",
    "\n",
    "#Now merging these fraudulent and non fraudulent transactions to create our new balanced 50/50 dataset\n",
    "counts_after_under_sampling = df.loc[np.concatenate([fraudulent_index,random_samples_from_non_fraudulent])].Class.value_counts()\n",
    "\n",
    "plt.figure(figsize=(10,10))\n",
    "sns.barplot(x=counts_after_under_sampling.index, y=counts_after_under_sampling)\n",
    "plt.title('Fraudulent Transactions vs. Non-Fraudulent Transactions')\n",
    "plt.xlabel('Class (Non-Fraudulent =0, 1:Fraudulent)')\n",
    "plt.ylabel('Counts')"
   ]
  },
  {
   "cell_type": "code",
   "execution_count": 14,
   "metadata": {},
   "outputs": [],
   "source": [
    "correlation_between_features = df.loc[np.concatenate([fraudulent_index,random_samples_from_non_fraudulent])].corr()\n",
    "correlation_between_features = correlation_between_features[['Class']]"
   ]
  },
  {
   "cell_type": "code",
   "execution_count": 15,
   "metadata": {},
   "outputs": [
    {
     "data": {
      "text/html": [
       "<div>\n",
       "<style scoped>\n",
       "    .dataframe tbody tr th:only-of-type {\n",
       "        vertical-align: middle;\n",
       "    }\n",
       "\n",
       "    .dataframe tbody tr th {\n",
       "        vertical-align: top;\n",
       "    }\n",
       "\n",
       "    .dataframe thead th {\n",
       "        text-align: right;\n",
       "    }\n",
       "</style>\n",
       "<table border=\"1\" class=\"dataframe\">\n",
       "  <thead>\n",
       "    <tr style=\"text-align: right;\">\n",
       "      <th></th>\n",
       "      <th>Class</th>\n",
       "    </tr>\n",
       "  </thead>\n",
       "  <tbody>\n",
       "    <tr>\n",
       "      <td>V4</td>\n",
       "      <td>0.710817</td>\n",
       "    </tr>\n",
       "    <tr>\n",
       "      <td>V11</td>\n",
       "      <td>0.686590</td>\n",
       "    </tr>\n",
       "    <tr>\n",
       "      <td>Class</td>\n",
       "      <td>1.000000</td>\n",
       "    </tr>\n",
       "  </tbody>\n",
       "</table>\n",
       "</div>"
      ],
      "text/plain": [
       "          Class\n",
       "V4     0.710817\n",
       "V11    0.686590\n",
       "Class  1.000000"
      ]
     },
     "execution_count": 15,
     "metadata": {},
     "output_type": "execute_result"
    }
   ],
   "source": [
    "correlation_between_features[correlation_between_features.Class > 0.5]  # features with high positive correlation"
   ]
  },
  {
   "cell_type": "code",
   "execution_count": 16,
   "metadata": {},
   "outputs": [
    {
     "data": {
      "text/plain": [
       "<matplotlib.axes._subplots.AxesSubplot at 0x7f1961a8e190>"
      ]
     },
     "execution_count": 16,
     "metadata": {},
     "output_type": "execute_result"
    },
    {
     "data": {
      "image/png": "[encoded data removed]",
      "text/plain": [
       "<Figure size 1296x648 with 2 Axes>"
      ]
     },
     "metadata": {
      "needs_background": "light"
     },
     "output_type": "display_data"
    }
   ],
   "source": [
    "#visualizing the features w high positive correlation\n",
    "f, axes = plt.subplots(nrows=1, ncols=2, figsize=(18,9))\n",
    "\n",
    "f.suptitle('Features With High Positive Correlation', size=20)\n",
    "sns.boxplot(x=\"Class\", y=\"V4\", data=df.loc[np.concatenate([fraudulent_index,random_samples_from_non_fraudulent])], ax=axes[0])\n",
    "sns.boxplot(x=\"Class\", y=\"V11\", data=df.loc[np.concatenate([fraudulent_index,random_samples_from_non_fraudulent])], ax=axes[1])"
   ]
  },
  {
   "cell_type": "code",
   "execution_count": 17,
   "metadata": {},
   "outputs": [
    {
     "data": {
      "text/html": [
       "<div>\n",
       "<style scoped>\n",
       "    .dataframe tbody tr th:only-of-type {\n",
       "        vertical-align: middle;\n",
       "    }\n",
       "\n",
       "    .dataframe tbody tr th {\n",
       "        vertical-align: top;\n",
       "    }\n",
       "\n",
       "    .dataframe thead th {\n",
       "        text-align: right;\n",
       "    }\n",
       "</style>\n",
       "<table border=\"1\" class=\"dataframe\">\n",
       "  <thead>\n",
       "    <tr style=\"text-align: right;\">\n",
       "      <th></th>\n",
       "      <th>Class</th>\n",
       "    </tr>\n",
       "  </thead>\n",
       "  <tbody>\n",
       "    <tr>\n",
       "      <td>V3</td>\n",
       "      <td>-0.571050</td>\n",
       "    </tr>\n",
       "    <tr>\n",
       "      <td>V9</td>\n",
       "      <td>-0.539530</td>\n",
       "    </tr>\n",
       "    <tr>\n",
       "      <td>V10</td>\n",
       "      <td>-0.625016</td>\n",
       "    </tr>\n",
       "    <tr>\n",
       "      <td>V12</td>\n",
       "      <td>-0.684725</td>\n",
       "    </tr>\n",
       "    <tr>\n",
       "      <td>V14</td>\n",
       "      <td>-0.746990</td>\n",
       "    </tr>\n",
       "    <tr>\n",
       "      <td>V16</td>\n",
       "      <td>-0.593336</td>\n",
       "    </tr>\n",
       "    <tr>\n",
       "      <td>V17</td>\n",
       "      <td>-0.561740</td>\n",
       "    </tr>\n",
       "  </tbody>\n",
       "</table>\n",
       "</div>"
      ],
      "text/plain": [
       "        Class\n",
       "V3  -0.571050\n",
       "V9  -0.539530\n",
       "V10 -0.625016\n",
       "V12 -0.684725\n",
       "V14 -0.746990\n",
       "V16 -0.593336\n",
       "V17 -0.561740"
      ]
     },
     "execution_count": 17,
     "metadata": {},
     "output_type": "execute_result"
    }
   ],
   "source": [
    "correlation_between_features[correlation_between_features.Class < -0.5] # features with high negative correlation"
   ]
  },
  {
   "cell_type": "code",
   "execution_count": 18,
   "metadata": {},
   "outputs": [
    {
     "data": {
      "image/png": "[encoded data removed]",
      "text/plain": [
       "<Figure size 1872x1152 with 7 Axes>"
      ]
     },
     "metadata": {
      "needs_background": "light"
     },
     "output_type": "display_data"
    }
   ],
   "source": [
    "#visualizing the features w high negative correlation\n",
    "f, axes = plt.subplots(nrows=2, ncols=4, figsize=(26,16))\n",
    "\n",
    "f.suptitle('Features With High Negative Correlation', size=35)\n",
    "sns.boxplot(x=\"Class\", y=\"V3\", data=df.loc[np.concatenate([fraudulent_index,random_samples_from_non_fraudulent])], ax=axes[0,0])\n",
    "sns.boxplot(x=\"Class\", y=\"V9\", data=df.loc[np.concatenate([fraudulent_index,random_samples_from_non_fraudulent])], ax=axes[0,1])\n",
    "sns.boxplot(x=\"Class\", y=\"V10\", data=df.loc[np.concatenate([fraudulent_index,random_samples_from_non_fraudulent])], ax=axes[0,2])\n",
    "sns.boxplot(x=\"Class\", y=\"V12\", data=df.loc[np.concatenate([fraudulent_index,random_samples_from_non_fraudulent])], ax=axes[0,3])\n",
    "sns.boxplot(x=\"Class\", y=\"V14\", data=df.loc[np.concatenate([fraudulent_index,random_samples_from_non_fraudulent])], ax=axes[1,0])\n",
    "sns.boxplot(x=\"Class\", y=\"V16\", data=df.loc[np.concatenate([fraudulent_index,random_samples_from_non_fraudulent])], ax=axes[1,1])\n",
    "sns.boxplot(x=\"Class\", y=\"V17\", data=df.loc[np.concatenate([fraudulent_index,random_samples_from_non_fraudulent])], ax=axes[1,2])\n",
    "f.delaxes(axes[1,3])"
   ]
  },
  {
   "cell_type": "code",
   "execution_count": 19,
   "metadata": {},
   "outputs": [],
   "source": [
    "# Detecting the outliers\n",
    "after_sampling = df.loc[np.concatenate([fraudulent_index,random_samples_from_non_fraudulent])]\n",
    "\n",
    "#Forming an Inter-Quartile range for outlier detection\n",
    "Q3 = after_sampling.quantile(0.75)\n",
    "Q1 = after_sampling.quantile(0.25)\n",
    "\n",
    "IQR = Q3 - Q1"
   ]
  },
  {
   "cell_type": "code",
   "execution_count": 20,
   "metadata": {},
   "outputs": [
    {
     "name": "stdout",
     "output_type": "stream",
     "text": [
      "The number of transactions are reduced from 984 transactions to 542 transactions.\n"
     ]
    }
   ],
   "source": [
    "#Experimenting with different IQR ranges\n",
    "df1 = after_sampling[~((after_sampling < (Q1 - 1.5*IQR)) |(after_sampling > (Q3 + 1.5*IQR))).any(axis=1)]\n",
    "length_after_outlier_detection = len(df1)\n",
    "length_before_outlier_detection = len(after_sampling)\n",
    "print('The number of transactions are reduced from {} transactions to {} transactions.'\n",
    "      .format(length_before_outlier_detection, length_after_outlier_detection))"
   ]
  },
  {
   "cell_type": "code",
   "execution_count": 21,
   "metadata": {},
   "outputs": [
    {
     "name": "stdout",
     "output_type": "stream",
     "text": [
      "The number of transactions are reduced from 984 transactions to 698 transactions.\n"
     ]
    }
   ],
   "source": [
    "df2 = after_sampling[~((after_sampling < (Q1 - 2.5*IQR)) |(after_sampling > (Q3 + 2.5*IQR))).any(axis=1)]\n",
    "length_after_outlier_detection = len(df2)\n",
    "length_before_outlier_detection = len(after_sampling)\n",
    "print('The number of transactions are reduced from {} transactions to {} transactions.'\n",
    "      .format(length_before_outlier_detection, length_after_outlier_detection))"
   ]
  },
  {
   "cell_type": "code",
   "execution_count": 22,
   "metadata": {},
   "outputs": [
    {
     "name": "stdout",
     "output_type": "stream",
     "text": [
      "The number of transactions are reduced from 984 transactions to 784 transactions.\n"
     ]
    }
   ],
   "source": [
    "df3 = after_sampling[~((after_sampling < (Q1 - 3.5*IQR)) |(after_sampling > (Q3 + 3.5*IQR))).any(axis=1)]\n",
    "length_after_outlier_detection = len(df3)\n",
    "length_before_outlier_detection = len(after_sampling)\n",
    "print('The number of transactions are reduced from {} transactions to {} transactions.'\n",
    "      .format(length_before_outlier_detection, length_after_outlier_detection))"
   ]
  },
  {
   "cell_type": "code",
   "execution_count": 23,
   "metadata": {},
   "outputs": [],
   "source": [
    "#From the above experiments it can be seen that when range is 1.5 times the IQR then data is getting removed \n",
    "#instead of outliers and when range is 3.5 times the IQR then all of the outliers are not getting removed.\n",
    "#So, finally setting as range as 2.5 times the IQR\n",
    "\n",
    "#Removing the outliers that are outside 2.5 times the IQR and forming the training data\n",
    "X = df2.drop('Class', axis=1)\n",
    "y = df2['Class']"
   ]
  },
  {
   "cell_type": "code",
   "execution_count": 24,
   "metadata": {},
   "outputs": [],
   "source": [
    "def warn(*args, **kwargs):\n",
    "    pass\n",
    "import warnings\n",
    "warnings.warn = warn"
   ]
  },
  {
   "cell_type": "code",
   "execution_count": 25,
   "metadata": {},
   "outputs": [],
   "source": [
    "#Splitting the data into 80/20 train-test dataset\n",
    "from sklearn.model_selection import train_test_split\n",
    "\n",
    "X_under_train, X_under_test, y_under_train, y_under_test = train_test_split(X,y,test_size = 0.2, random_state = 42)\n"
   ]
  },
  {
   "cell_type": "code",
   "execution_count": 26,
   "metadata": {},
   "outputs": [],
   "source": [
    "#Classification algorithms\n",
    "from sklearn.linear_model import LogisticRegression\n",
    "from sklearn.ensemble import RandomForestClassifier\n",
    "from sklearn.model_selection import GridSearchCV\n",
    "from sklearn.svm import SVC"
   ]
  },
  {
   "cell_type": "code",
   "execution_count": 27,
   "metadata": {},
   "outputs": [
    {
     "name": "stdout",
     "output_type": "stream",
     "text": [
      "Best parameters for Random Forests are {'bootstrap': True, 'max_depth': 10, 'max_features': 2, 'min_samples_leaf': 3, 'min_samples_split': 6, 'n_estimators': 500}\n"
     ]
    }
   ],
   "source": [
    "# Parameter tuning for Random Forest\n",
    "\n",
    "def best_param_selection_for_random_forest(X, y):\n",
    "    param_grid = {\n",
    "    'bootstrap': [True],\n",
    "    'max_depth': [10, 80, 100, 120],\n",
    "    'max_features': [2, 3],\n",
    "    'min_samples_leaf': [3, 4, 5],\n",
    "    'min_samples_split': [6, 10, 12],\n",
    "    'n_estimators': [100, 200, 300, 500]}\n",
    "\n",
    "    grid_search = GridSearchCV(RandomForestClassifier(), param_grid)\n",
    "    grid_search.fit(X, y)\n",
    "    grid_search.best_params_\n",
    "    return grid_search.best_params_\n",
    "\n",
    "best_params_for_random_forest = best_param_selection_for_random_forest(X_under_train,y_under_train)\n",
    "\n",
    "print('Best parameters for Random Forests are',best_params_for_random_forest)"
   ]
  },
  {
   "cell_type": "code",
   "execution_count": 28,
   "metadata": {},
   "outputs": [
    {
     "name": "stdout",
     "output_type": "stream",
     "text": [
      "Best parameters for SVM are {'C': 10, 'gamma': 0.001}\n"
     ]
    }
   ],
   "source": [
    "# Paramter tuning for Support Vector Machine\n",
    "\n",
    "def best_param_selection_for_svm(X, y):\n",
    "    Cs = [0.001, 0.1, 0.5, 0.9, 10]\n",
    "    gammas = [0.001, 0.1, 0.5, 1]\n",
    "    param_grid = {'C': Cs, 'gamma' : gammas}\n",
    "    grid_search = GridSearchCV(SVC(kernel='rbf'), param_grid)\n",
    "    grid_search.fit(X, y)\n",
    "    grid_search.best_params_\n",
    "    return grid_search.best_params_\n",
    "\n",
    "best_params_for_svm = best_param_selection_for_svm(X_under_train,y_under_train)\n",
    "\n",
    "print('Best parameters for SVM are',best_params_for_svm)"
   ]
  },
  {
   "cell_type": "code",
   "execution_count": 29,
   "metadata": {},
   "outputs": [],
   "source": [
    "from sklearn.model_selection import KFold\n",
    "from sklearn.model_selection import cross_val_score\n",
    "from sklearn.metrics import roc_auc_score\n",
    "from sklearn.metrics import f1_score\n"
   ]
  },
  {
   "cell_type": "code",
   "execution_count": 30,
   "metadata": {},
   "outputs": [
    {
     "name": "stdout",
     "output_type": "stream",
     "text": [
      "Logistic Regression\n",
      "F1 Score: 0.942485779497687\n",
      "ROC-AUC: 0.9696538203091982\n",
      "\n",
      "\n"
     ]
    }
   ],
   "source": [
    "#Doing classification using Logistic Regression\n",
    "model1 = LogisticRegression()\n",
    "kfold = KFold(n_splits=10, random_state=42)\n",
    "cv_results_roc1 = cross_val_score(model1, X_under_train, y_under_train, cv=kfold, scoring='roc_auc')\n",
    "cv_results_f1 = cross_val_score(model1, X_under_train, y_under_train, cv=kfold, scoring='f1_macro')\n",
    "    \n",
    "print('Logistic Regression')\n",
    "print('F1 Score:',cv_results_f1.mean())\n",
    "print('ROC-AUC:',cv_results_roc1.mean())\n",
    "print('\\n')"
   ]
  },
  {
   "cell_type": "code",
   "execution_count": 31,
   "metadata": {},
   "outputs": [
    {
     "name": "stdout",
     "output_type": "stream",
     "text": [
      "Random Forests\n",
      "F1 Score: 0.937395583713706\n",
      "ROC-AUC: 0.9644999767790015\n",
      "\n",
      "\n"
     ]
    }
   ],
   "source": [
    "#Doing classification using Random Forests\n",
    "model2 = RandomForestClassifier(n_estimators=best_params_for_random_forest['n_estimators'],\n",
    "        min_samples_split=best_params_for_random_forest['min_samples_split'],min_samples_leaf\n",
    "     =best_params_for_random_forest['min_samples_leaf'],max_features=best_params_for_random_forest['max_features'],max_depth = best_params_for_random_forest['max_depth'],\n",
    "                                    criterion='gini')\n",
    "kfold = KFold(n_splits=10, random_state=42)\n",
    "cv_results_roc2 = cross_val_score(model2, X_under_train, y_under_train, cv=kfold, scoring='roc_auc')\n",
    "cv_results_f2 = cross_val_score(model2, X_under_train, y_under_train, cv=kfold, scoring='f1_macro')\n",
    "    \n",
    "print('Random Forests')\n",
    "print('F1 Score:',cv_results_f2.mean())\n",
    "print('ROC-AUC:',cv_results_roc2.mean())\n",
    "print('\\n')"
   ]
  },
  {
   "cell_type": "code",
   "execution_count": 32,
   "metadata": {},
   "outputs": [
    {
     "name": "stdout",
     "output_type": "stream",
     "text": [
      "Support Vector Machines\n",
      "F1 Score: 0.9416324921935555\n",
      "ROC-AUC: 0.9643043538457835\n",
      "\n",
      "\n"
     ]
    }
   ],
   "source": [
    "#Doing classification using SVM\n",
    "model3 = SVC(kernel='rbf',C = best_params_for_svm['C'],gamma=best_params_for_svm['gamma'])\n",
    "kfold = KFold(n_splits=10, random_state=42)\n",
    "cv_results_roc3 = cross_val_score(model3, X_under_train, y_under_train, cv=kfold, scoring='roc_auc')\n",
    "cv_results_f3 = cross_val_score(model3, X_under_train, y_under_train, cv=kfold, scoring='f1_macro')\n",
    "\n",
    "print('Support Vector Machines')\n",
    "print('F1 Score:',cv_results_f3.mean())\n",
    "print('ROC-AUC:',cv_results_roc3.mean())\n",
    "print('\\n')"
   ]
  },
  {
   "cell_type": "code",
   "execution_count": 33,
   "metadata": {},
   "outputs": [
    {
     "data": {
      "image/png": "[encoded data removed]",
      "text/plain": [
       "<Figure size 864x720 with 1 Axes>"
      ]
     },
     "metadata": {
      "needs_background": "light"
     },
     "output_type": "display_data"
    }
   ],
   "source": [
    "#Comparison of all the three algorithms for ROC-AUC score\n",
    "algorithms = []\n",
    "roc_results = []\n",
    "roc_results.append(cv_results_roc1)\n",
    "roc_results.append(cv_results_roc2)\n",
    "roc_results.append(cv_results_roc3)\n",
    "\n",
    "algorithms.append('Logistic Regression')\n",
    "algorithms.append('Random Forests')\n",
    "algorithms.append('Support Vector Machines')\n",
    "\n",
    "fig = plt.figure(figsize=(12,10))\n",
    "plt.title('Comparison of all three Classification Algorithms using ROC-AUC score')\n",
    "plt.xlabel('Algorithm')\n",
    "plt.ylabel('ROC-AUC Score')\n",
    "plt.boxplot(roc_results)\n",
    "ax = fig.add_subplot(111)\n",
    "ax.set_xticklabels(algorithms)\n",
    "plt.show()"
   ]
  },
  {
   "cell_type": "code",
   "execution_count": 34,
   "metadata": {},
   "outputs": [
    {
     "data": {
      "image/png": "[encoded data removed]",
      "text/plain": [
       "<Figure size 864x720 with 1 Axes>"
      ]
     },
     "metadata": {
      "needs_background": "light"
     },
     "output_type": "display_data"
    }
   ],
   "source": [
    "#Comparison of all the three algorithms for F1-score\n",
    "f1_results = []\n",
    "f1_results.append(cv_results_f1)\n",
    "f1_results.append(cv_results_f2)\n",
    "f1_results.append(cv_results_f3)\n",
    "\n",
    "fig = plt.figure(figsize=(12,10))\n",
    "plt.title('Comparison of all three Classification Algorithms using F1 score')\n",
    "plt.xlabel('Algorithm')\n",
    "plt.ylabel('F1 Score')\n",
    "plt.boxplot(f1_results)\n",
    "ax = fig.add_subplot(111)\n",
    "ax.set_xticklabels(algorithms)\n",
    "plt.show()"
   ]
  },
  {
   "cell_type": "code",
   "execution_count": null,
   "metadata": {},
   "outputs": [],
   "source": []
  },
  {
   "cell_type": "code",
   "execution_count": null,
   "metadata": {},
   "outputs": [],
   "source": []
  }
 ],
 "metadata": {
  "anaconda-cloud": {},
  "kernelspec": {
   "display_name": "Python 3",
   "language": "python",
   "name": "python3"
  },
  "language_info": {
   "codemirror_mode": {
    "name": "ipython",
    "version": 3
   },
   "file_extension": ".py",
   "mimetype": "text/x-python",
   "name": "python",
   "nbconvert_exporter": "python",
   "pygments_lexer": "ipython3",
   "version": "3.7.4"
  }
 },
 "nbformat": 4,
 "nbformat_minor": 1
}
